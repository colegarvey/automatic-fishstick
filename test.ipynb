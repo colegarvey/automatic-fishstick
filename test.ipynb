{
 "cells": [
  {
   "cell_type": "code",
   "execution_count": 2,
   "id": "3d12c9d8",
   "metadata": {},
   "outputs": [],
   "source": [
    "from src.config import API_KEY, SECRET_KEY\n",
    "paper = True"
   ]
  },
  {
   "cell_type": "code",
   "execution_count": 6,
   "id": "914265db",
   "metadata": {},
   "outputs": [],
   "source": [
    "from datetime import datetime, timedelta\n",
    " \n",
    "import alpaca\n",
    "from alpaca.data.historical.option import OptionHistoricalDataClient, OptionLatestQuoteRequest\n",
    "from alpaca.data.historical.stock import StockHistoricalDataClient, StockLatestQuoteRequest\n",
    "from alpaca.data.requests import StockLatestQuoteRequest\n",
    "\n",
    "from alpaca.trading.client import TradingClient, GetAssetsRequest\n",
    "from alpaca.trading.requests import GetOptionContractsRequest, LimitOrderRequest, MarketOrderRequest, GetOrdersRequest\n",
    "from alpaca.trading.enums import AssetStatus, ContractType, OrderSide, OrderType, TimeInForce, QueryOrderStatus"
   ]
  },
  {
   "cell_type": "code",
   "execution_count": 3,
   "id": "16a45e7a",
   "metadata": {},
   "outputs": [],
   "source": [
    "trade_client = TradingClient(api_key=API_KEY, secret_key=SECRET_KEY, paper=paper)\n",
    "stock_data_client = StockHistoricalDataClient(api_key=API_KEY, secret_key=SECRET_KEY)\n",
    "option_data_client = OptionHistoricalDataClient(api_key=API_KEY, secret_key=SECRET_KEY)"
   ]
  },
  {
   "cell_type": "code",
   "execution_count": 8,
   "id": "5cd6503a",
   "metadata": {},
   "outputs": [
    {
     "data": {
      "text/plain": [
       "{'TSLA': {   'ask_exchange': 'V',\n",
       "     'ask_price': 302.0,\n",
       "     'ask_size': 1.0,\n",
       "     'bid_exchange': 'V',\n",
       "     'bid_price': 295.3,\n",
       "     'bid_size': 1.0,\n",
       "     'conditions': ['R'],\n",
       "     'symbol': 'TSLA',\n",
       "     'tape': 'C',\n",
       "     'timestamp': datetime.datetime(2025, 5, 9, 19, 59, 59, 412841, tzinfo=TzInfo(UTC))}}"
      ]
     },
     "execution_count": 8,
     "metadata": {},
     "output_type": "execute_result"
    }
   ],
   "source": [
    "req = StockLatestQuoteRequest(\n",
    "    symbol_or_symbols='TSLA'\n",
    ")\n",
    "stock_data_client.get_stock_latest_quote(req)"
   ]
  },
  {
   "cell_type": "code",
   "execution_count": 4,
   "id": "6ea497a6",
   "metadata": {},
   "outputs": [],
   "source": [
    "from alpaca.data.live import StockDataStream\n",
    "\n",
    "\n"
   ]
  },
  {
   "cell_type": "code",
   "execution_count": null,
   "id": "f7228715",
   "metadata": {},
   "outputs": [],
   "source": [
    "# Create request parameters for the latest option trade\n",
    "request_params = OptionLatestQuoteRequest(\n",
    "\tsymbol=\"TSLA\",  # Replace with the desired symbol\n",
    "\texpiration_date=\"2023-12-15\",  # Replace with the desired expiration date\n",
    "\tstrike_price=200.0,  # Replace with the desired strike price\n",
    "\toption_type=\"call\"  # Replace with \"call\" or \"put\"\n",
    ")\n",
    "\n",
    "# Fetch the latest option trade\n",
    "latest_trade = option_data_client.get_option_latest_trade(request_params)\n",
    "latest_trade"
   ]
  },
  {
   "cell_type": "code",
   "execution_count": null,
   "id": "39ca4bbe",
   "metadata": {},
   "outputs": [],
   "source": [
    "acct = trade_client.get_account()\n",
    "# print(f\"Options approved level: {acct.options_approved_level}\")\n",
    "# print(f\"Options trading level: {acct.options_trading_level}\")\n",
    "# print(f\"Options Buying power: {acct.options_buying_power}\")\n",
    "acct"
   ]
  },
  {
   "cell_type": "code",
   "execution_count": null,
   "id": "9038d5c4",
   "metadata": {},
   "outputs": [],
   "source": [
    "# set max options trading level, risk management\n",
    "acct_config = trade_client.get_account_configurations()\n",
    "print(f\"max options trading level: {acct_config.max_options_trading_level}\")\n",
    "\n",
    "acct_config.max_options_trading_level = None\n",
    "trade_client.set_account_configurations(acct_config)\n",
    "\n",
    "acct_config = trade_client.get_account_configurations()\n",
    "print(f\"max options trading level: {acct_config.max_options_trading_level}\")"
   ]
  },
  {
   "cell_type": "code",
   "execution_count": null,
   "id": "c0c34423",
   "metadata": {},
   "outputs": [],
   "source": [
    "# active options to buy\n",
    "req = GetAssetsRequest(\n",
    "    status = AssetStatus.ACTIVE,\n",
    "    attributes = \"options_enabled\"\n",
    ")\n",
    "\n",
    "options_enabled_underlyings = trade_client.get_all_assets(req)\n",
    "print(f\"Number of Underlyings with options: {len(options_enabled_underlyings)}\")\n",
    "\n",
    "symbol = 'TSLA'\n",
    "test = trade_client.get_asset(symbol_or_asset_id=symbol)\n",
    "test\n",
    "# print(f\"{symbol} has options? {'options_enabled' in test.attributes}\")"
   ]
  },
  {
   "cell_type": "code",
   "execution_count": null,
   "id": "b93edfb8",
   "metadata": {},
   "outputs": [],
   "source": []
  },
  {
   "cell_type": "code",
   "execution_count": null,
   "id": "bfe3fbf0",
   "metadata": {},
   "outputs": [],
   "source": [
    "# account positions\n",
    "positions = trade_client.get_all_positions()\n",
    "for p in positions:\n",
    "    print(p)"
   ]
  },
  {
   "cell_type": "code",
   "execution_count": null,
   "id": "11c5af4e",
   "metadata": {},
   "outputs": [],
   "source": [
    "today = datetime.now().date()\n",
    "min_expiration = today + timedelta(days=14)\n",
    "max_expiration = today + timedelta(days=90)\n",
    "\n",
    "trade_req = StockLatestTradeRequest(symbol_or_symbols=symbol)\n",
    "latest_trade = stock_data_client.get_stock_latest_trade(trade_req)\n",
    "last_price = latest_trade[symbol].price\n",
    "\n",
    "min_strike = str(round(last_price*1.02,2))\n",
    "\n",
    "print(f\"{symbol} last trade price: {last_price}\")\n",
    "print(f\"Min exp: {min_expiration}\")\n",
    "print(f\"Max exp: {max_expiration}\")\n",
    "print(f\"Min strike: {min_strike}\")"
   ]
  },
  {
   "cell_type": "code",
   "execution_count": null,
   "id": "1f9433ce",
   "metadata": {},
   "outputs": [],
   "source": [
    "# create market order\n",
    "req = MarketOrderRequest(\n",
    "    symbol='AAPL',\n",
    "    qty=1,\n",
    "    side=OrderSide.SELL,\n",
    "    type=OrderType.MARKET,\n",
    "    time_in_force=TimeInForce.DAY,\n",
    ")\n",
    "res = trade_client.submit_order(req)\n",
    "res\n",
    "\n",
    "# limit price request, buy when option reaches the limit price\n",
    "limit_order = LimitOrderRequest(\n",
    "    symbol='SPY',\n",
    "    qty=1,\n",
    "    side=OrderSide.BUY,\n",
    "    time_in_force=TimeInForce.DAY, # will sit until timeInForce determines when to be filled\n",
    "    limit_price=486.00\n",
    ")\n",
    "order = trade_client.submit_order(limit_order)"
   ]
  },
  {
   "cell_type": "code",
   "execution_count": null,
   "id": "a2371d37",
   "metadata": {},
   "outputs": [],
   "source": [
    "# get unfilled orders to manage based off trading algorithm\n",
    "req = GetOrdersRequest(\n",
    "    status=QueryOrderStatus.OPEN\n",
    ")\n",
    "order = trade_client.get_orders(req)\n",
    "# print(order)\n",
    "\n",
    "for elem in order:\n",
    "    trade_client.cancel_order_by_id(elem.id)"
   ]
  },
  {
   "cell_type": "code",
   "execution_count": null,
   "id": "0bf02ed5",
   "metadata": {},
   "outputs": [],
   "source": [
    "# close position\n",
    "symbol = positions[0].symbol\n",
    "trade_client.close_position(\n",
    "    symbol_or_asset_id=symbol\n",
    ")"
   ]
  }
 ],
 "metadata": {
  "kernelspec": {
   "display_name": "venv",
   "language": "python",
   "name": "python3"
  },
  "language_info": {
   "codemirror_mode": {
    "name": "ipython",
    "version": 3
   },
   "file_extension": ".py",
   "mimetype": "text/x-python",
   "name": "python",
   "nbconvert_exporter": "python",
   "pygments_lexer": "ipython3",
   "version": "3.13.3"
  }
 },
 "nbformat": 4,
 "nbformat_minor": 5
}
