{
 "cells": [
  {
   "cell_type": "code",
   "execution_count": 1,
   "id": "3d12c9d8",
   "metadata": {},
   "outputs": [],
   "source": [
    "from config import API_KEY, SECRET_KEY\n",
    "paper = True"
   ]
  },
  {
   "cell_type": "code",
   "execution_count": 3,
   "id": "914265db",
   "metadata": {},
   "outputs": [],
   "source": [
    "from datetime import datetime, timedelta\n",
    " \n",
    "import alpaca\n",
    "from alpaca.data.historical.option import OptionHistoricalDataClient, OptionLatestQuoteRequest\n",
    "from alpaca.data.historical.stock import StockHistoricalDataClient, StockLatestTradeRequest\n",
    "from alpaca.trading.client import TradingClient, GetAssetsRequest\n",
    "from alpaca.trading.requests import GetOptionContractsRequest, LimitOrderRequest, MarketOrderRequest, GetOrdersRequest\n",
    "from alpaca.trading.enums import AssetStatus, ContractType, OrderSide, OrderType, TimeInForce, QueryOrderStatus"
   ]
  },
  {
   "cell_type": "code",
   "execution_count": 4,
   "id": "16a45e7a",
   "metadata": {},
   "outputs": [],
   "source": [
    "trade_client = TradingClient(api_key=API_KEY, secret_key=SECRET_KEY, paper=paper)\n",
    "stock_data_client = StockHistoricalDataClient(api_key=API_KEY, secret_key=SECRET_KEY)\n",
    "option_data_client = OptionHistoricalDataClient(api_key=API_KEY, secret_key=SECRET_KEY)"
   ]
  },
  {
   "cell_type": "code",
   "execution_count": 5,
   "id": "39ca4bbe",
   "metadata": {},
   "outputs": [
    {
     "name": "stdout",
     "output_type": "stream",
     "text": [
      "Options approved level: 3\n",
      "Options trading level: 3\n",
      "Options Buying power: 100000\n"
     ]
    }
   ],
   "source": [
    "acct = trade_client.get_account()\n",
    "print(f\"Options approved level: {acct.options_approved_level}\")\n",
    "print(f\"Options trading level: {acct.options_trading_level}\")\n",
    "print(f\"Options Buying power: {acct.options_buying_power}\")"
   ]
  },
  {
   "cell_type": "code",
   "execution_count": 13,
   "id": "9038d5c4",
   "metadata": {},
   "outputs": [
    {
     "name": "stdout",
     "output_type": "stream",
     "text": [
      "max options trading level: 3\n",
      "max options trading level: 3\n"
     ]
    }
   ],
   "source": [
    "# set max options trading level, risk management\n",
    "acct_config = trade_client.get_account_configurations()\n",
    "print(f\"max options trading level: {acct_config.max_options_trading_level}\")\n",
    "\n",
    "acct_config.max_options_trading_level = None\n",
    "trade_client.set_account_configurations(acct_config)\n",
    "\n",
    "acct_config = trade_client.get_account_configurations()\n",
    "print(f\"max options trading level: {acct_config.max_options_trading_level}\")"
   ]
  },
  {
   "cell_type": "code",
   "execution_count": 16,
   "id": "c0c34423",
   "metadata": {},
   "outputs": [
    {
     "name": "stdout",
     "output_type": "stream",
     "text": [
      "Number of Underlyings with options: 5831\n",
      "TSLA has options? False\n"
     ]
    }
   ],
   "source": [
    "# active options to buy\n",
    "req = GetAssetsRequest(\n",
    "    status = AssetStatus.ACTIVE,\n",
    "    attributes = \"options_enabled\"\n",
    ")\n",
    "\n",
    "options_enabled_underlyings = trade_client.get_all_assets(req)\n",
    "print(f\"Number of Underlyings with options: {len(options_enabled_underlyings)}\")\n",
    "\n",
    "symbol = 'TSLA'\n",
    "test = trade_client.get_asset(symbol_or_asset_id=symbol)\n",
    "print(f\"{symbol} has options? {'options_enabled' in test.attributes}\")"
   ]
  },
  {
   "cell_type": "code",
   "execution_count": 17,
   "id": "bfe3fbf0",
   "metadata": {},
   "outputs": [],
   "source": [
    "# account positions\n",
    "positions = trade_client.get_all_positions()\n",
    "for p in positions:\n",
    "    print(p)"
   ]
  },
  {
   "cell_type": "code",
   "execution_count": 19,
   "id": "11c5af4e",
   "metadata": {},
   "outputs": [
    {
     "name": "stdout",
     "output_type": "stream",
     "text": [
      "TSLA last trade price: 298.215\n",
      "Min exp: 2025-05-24\n",
      "Max exp: 2025-08-08\n",
      "Min strike: 304.18\n"
     ]
    }
   ],
   "source": [
    "today = datetime.now().date()\n",
    "min_expiration = today + timedelta(days=14)\n",
    "max_expiration = today + timedelta(days=90)\n",
    "\n",
    "trade_req = StockLatestTradeRequest(symbol_or_symbols=symbol)\n",
    "latest_trade = stock_data_client.get_stock_latest_trade(trade_req)\n",
    "last_price = latest_trade[symbol].price\n",
    "\n",
    "min_strike = str(round(last_price*1.02,2))\n",
    "\n",
    "print(f\"{symbol} last trade price: {last_price}\")\n",
    "print(f\"Min exp: {min_expiration}\")\n",
    "print(f\"Max exp: {max_expiration}\")\n",
    "print(f\"Min strike: {min_strike}\")"
   ]
  },
  {
   "cell_type": "code",
   "execution_count": 21,
   "id": "1f9433ce",
   "metadata": {},
   "outputs": [
    {
     "ename": "APIError",
     "evalue": "{\"code\":40310000,\"existing_order_id\":\"52130f3b-72c4-4b7a-bc68-c3b755f8b3ad\",\"message\":\"potential wash trade detected. use complex orders\",\"reject_reason\":\"opposite side market/stop order exists\"}",
     "output_type": "error",
     "traceback": [
      "\u001b[31m---------------------------------------------------------------------------\u001b[39m",
      "\u001b[31mHTTPError\u001b[39m                                 Traceback (most recent call last)",
      "\u001b[36mFile \u001b[39m\u001b[32mc:\\Users\\cgarv\\automatic-fishstick\\venv\\Lib\\site-packages\\alpaca\\common\\rest.py:198\u001b[39m, in \u001b[36mRESTClient._one_request\u001b[39m\u001b[34m(self, method, url, opts, retry)\u001b[39m\n\u001b[32m    197\u001b[39m \u001b[38;5;28;01mtry\u001b[39;00m:\n\u001b[32m--> \u001b[39m\u001b[32m198\u001b[39m     \u001b[43mresponse\u001b[49m\u001b[43m.\u001b[49m\u001b[43mraise_for_status\u001b[49m\u001b[43m(\u001b[49m\u001b[43m)\u001b[49m\n\u001b[32m    199\u001b[39m \u001b[38;5;28;01mexcept\u001b[39;00m HTTPError \u001b[38;5;28;01mas\u001b[39;00m http_error:\n\u001b[32m    200\u001b[39m     \u001b[38;5;66;03m# retry if we hit Rate Limit\u001b[39;00m\n",
      "\u001b[36mFile \u001b[39m\u001b[32mc:\\Users\\cgarv\\automatic-fishstick\\venv\\Lib\\site-packages\\requests\\models.py:1024\u001b[39m, in \u001b[36mResponse.raise_for_status\u001b[39m\u001b[34m(self)\u001b[39m\n\u001b[32m   1023\u001b[39m \u001b[38;5;28;01mif\u001b[39;00m http_error_msg:\n\u001b[32m-> \u001b[39m\u001b[32m1024\u001b[39m     \u001b[38;5;28;01mraise\u001b[39;00m HTTPError(http_error_msg, response=\u001b[38;5;28mself\u001b[39m)\n",
      "\u001b[31mHTTPError\u001b[39m: 403 Client Error: Forbidden for url: https://paper-api.alpaca.markets/v2/orders",
      "\nDuring handling of the above exception, another exception occurred:\n",
      "\u001b[31mAPIError\u001b[39m                                  Traceback (most recent call last)",
      "\u001b[36mCell\u001b[39m\u001b[36m \u001b[39m\u001b[32mIn[21]\u001b[39m\u001b[32m, line 9\u001b[39m\n\u001b[32m      1\u001b[39m \u001b[38;5;66;03m# create market order\u001b[39;00m\n\u001b[32m      2\u001b[39m req = MarketOrderRequest(\n\u001b[32m      3\u001b[39m     symbol=\u001b[33m'\u001b[39m\u001b[33mAAPL\u001b[39m\u001b[33m'\u001b[39m,\n\u001b[32m      4\u001b[39m     qty=\u001b[32m1\u001b[39m,\n\u001b[32m   (...)\u001b[39m\u001b[32m      7\u001b[39m     time_in_force=TimeInForce.GTC,\n\u001b[32m      8\u001b[39m )\n\u001b[32m----> \u001b[39m\u001b[32m9\u001b[39m res = \u001b[43mtrade_client\u001b[49m\u001b[43m.\u001b[49m\u001b[43msubmit_order\u001b[49m\u001b[43m(\u001b[49m\u001b[43mreq\u001b[49m\u001b[43m)\u001b[49m\n\u001b[32m     10\u001b[39m res\n",
      "\u001b[36mFile \u001b[39m\u001b[32mc:\\Users\\cgarv\\automatic-fishstick\\venv\\Lib\\site-packages\\alpaca\\trading\\client.py:100\u001b[39m, in \u001b[36mTradingClient.submit_order\u001b[39m\u001b[34m(self, order_data)\u001b[39m\n\u001b[32m     91\u001b[39m \u001b[38;5;250m\u001b[39m\u001b[33;03m\"\"\"Creates an order to buy or sell an asset.\u001b[39;00m\n\u001b[32m     92\u001b[39m \n\u001b[32m     93\u001b[39m \u001b[33;03mArgs:\u001b[39;00m\n\u001b[32m   (...)\u001b[39m\u001b[32m     97\u001b[39m \u001b[33;03m    alpaca.trading.models.Order: The resulting submitted order.\u001b[39;00m\n\u001b[32m     98\u001b[39m \u001b[33;03m\"\"\"\u001b[39;00m\n\u001b[32m     99\u001b[39m data = order_data.to_request_fields()\n\u001b[32m--> \u001b[39m\u001b[32m100\u001b[39m response = \u001b[38;5;28;43mself\u001b[39;49m\u001b[43m.\u001b[49m\u001b[43mpost\u001b[49m\u001b[43m(\u001b[49m\u001b[33;43m\"\u001b[39;49m\u001b[33;43m/orders\u001b[39;49m\u001b[33;43m\"\u001b[39;49m\u001b[43m,\u001b[49m\u001b[43m \u001b[49m\u001b[43mdata\u001b[49m\u001b[43m)\u001b[49m\n\u001b[32m    102\u001b[39m \u001b[38;5;28;01mif\u001b[39;00m \u001b[38;5;28mself\u001b[39m._use_raw_data:\n\u001b[32m    103\u001b[39m     \u001b[38;5;28;01mreturn\u001b[39;00m response\n",
      "\u001b[36mFile \u001b[39m\u001b[32mc:\\Users\\cgarv\\automatic-fishstick\\venv\\Lib\\site-packages\\alpaca\\common\\rest.py:240\u001b[39m, in \u001b[36mRESTClient.post\u001b[39m\u001b[34m(self, path, data)\u001b[39m\n\u001b[32m    227\u001b[39m \u001b[38;5;28;01mdef\u001b[39;00m\u001b[38;5;250m \u001b[39m\u001b[34mpost\u001b[39m(\n\u001b[32m    228\u001b[39m     \u001b[38;5;28mself\u001b[39m, path: \u001b[38;5;28mstr\u001b[39m, data: Optional[Union[\u001b[38;5;28mdict\u001b[39m, List[\u001b[38;5;28mdict\u001b[39m]]] = \u001b[38;5;28;01mNone\u001b[39;00m\n\u001b[32m    229\u001b[39m ) -> HTTPResult:\n\u001b[32m    230\u001b[39m \u001b[38;5;250m    \u001b[39m\u001b[33;03m\"\"\"Performs a single POST request\u001b[39;00m\n\u001b[32m    231\u001b[39m \n\u001b[32m    232\u001b[39m \u001b[33;03m    Args:\u001b[39;00m\n\u001b[32m   (...)\u001b[39m\u001b[32m    238\u001b[39m \u001b[33;03m        dict: The response\u001b[39;00m\n\u001b[32m    239\u001b[39m \u001b[33;03m    \"\"\"\u001b[39;00m\n\u001b[32m--> \u001b[39m\u001b[32m240\u001b[39m     \u001b[38;5;28;01mreturn\u001b[39;00m \u001b[38;5;28;43mself\u001b[39;49m\u001b[43m.\u001b[49m\u001b[43m_request\u001b[49m\u001b[43m(\u001b[49m\u001b[33;43m\"\u001b[39;49m\u001b[33;43mPOST\u001b[39;49m\u001b[33;43m\"\u001b[39;49m\u001b[43m,\u001b[49m\u001b[43m \u001b[49m\u001b[43mpath\u001b[49m\u001b[43m,\u001b[49m\u001b[43m \u001b[49m\u001b[43mdata\u001b[49m\u001b[43m)\u001b[49m\n",
      "\u001b[36mFile \u001b[39m\u001b[32mc:\\Users\\cgarv\\automatic-fishstick\\venv\\Lib\\site-packages\\alpaca\\common\\rest.py:131\u001b[39m, in \u001b[36mRESTClient._request\u001b[39m\u001b[34m(self, method, path, data, base_url, api_version)\u001b[39m\n\u001b[32m    129\u001b[39m \u001b[38;5;28;01mwhile\u001b[39;00m retry >= \u001b[32m0\u001b[39m:\n\u001b[32m    130\u001b[39m     \u001b[38;5;28;01mtry\u001b[39;00m:\n\u001b[32m--> \u001b[39m\u001b[32m131\u001b[39m         \u001b[38;5;28;01mreturn\u001b[39;00m \u001b[38;5;28;43mself\u001b[39;49m\u001b[43m.\u001b[49m\u001b[43m_one_request\u001b[49m\u001b[43m(\u001b[49m\u001b[43mmethod\u001b[49m\u001b[43m,\u001b[49m\u001b[43m \u001b[49m\u001b[43murl\u001b[49m\u001b[43m,\u001b[49m\u001b[43m \u001b[49m\u001b[43mopts\u001b[49m\u001b[43m,\u001b[49m\u001b[43m \u001b[49m\u001b[43mretry\u001b[49m\u001b[43m)\u001b[49m\n\u001b[32m    132\u001b[39m     \u001b[38;5;28;01mexcept\u001b[39;00m RetryException:\n\u001b[32m    133\u001b[39m         time.sleep(\u001b[38;5;28mself\u001b[39m._retry_wait)\n",
      "\u001b[36mFile \u001b[39m\u001b[32mc:\\Users\\cgarv\\automatic-fishstick\\venv\\Lib\\site-packages\\alpaca\\common\\rest.py:207\u001b[39m, in \u001b[36mRESTClient._one_request\u001b[39m\u001b[34m(self, method, url, opts, retry)\u001b[39m\n\u001b[32m    204\u001b[39m     \u001b[38;5;66;03m# raise API error for all other errors\u001b[39;00m\n\u001b[32m    205\u001b[39m     error = response.text\n\u001b[32m--> \u001b[39m\u001b[32m207\u001b[39m     \u001b[38;5;28;01mraise\u001b[39;00m APIError(error, http_error)\n\u001b[32m    209\u001b[39m \u001b[38;5;28;01mif\u001b[39;00m response.text != \u001b[33m\"\u001b[39m\u001b[33m\"\u001b[39m:\n\u001b[32m    210\u001b[39m     \u001b[38;5;28;01mreturn\u001b[39;00m response.json()\n",
      "\u001b[31mAPIError\u001b[39m: {\"code\":40310000,\"existing_order_id\":\"52130f3b-72c4-4b7a-bc68-c3b755f8b3ad\",\"message\":\"potential wash trade detected. use complex orders\",\"reject_reason\":\"opposite side market/stop order exists\"}"
     ]
    }
   ],
   "source": [
    "# create market order\n",
    "req = MarketOrderRequest(\n",
    "    symbol='AAPL',\n",
    "    qty=1,\n",
    "    side=OrderSide.SELL,\n",
    "    type=OrderType.MARKET,\n",
    "    time_in_force=TimeInForce.GTC,\n",
    ")\n",
    "res = trade_client.submit_order(req)\n",
    "res"
   ]
  },
  {
   "cell_type": "code",
   "execution_count": null,
   "id": "0bf02ed5",
   "metadata": {},
   "outputs": [],
   "source": [
    "# close position\n",
    "symbol = positions[0].symbol\n",
    "trade_client.close_position(\n",
    "    symbol_or_asset_id=symbol\n",
    ")"
   ]
  }
 ],
 "metadata": {
  "kernelspec": {
   "display_name": "venv",
   "language": "python",
   "name": "python3"
  },
  "language_info": {
   "codemirror_mode": {
    "name": "ipython",
    "version": 3
   },
   "file_extension": ".py",
   "mimetype": "text/x-python",
   "name": "python",
   "nbconvert_exporter": "python",
   "pygments_lexer": "ipython3",
   "version": "3.13.3"
  }
 },
 "nbformat": 4,
 "nbformat_minor": 5
}
