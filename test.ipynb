{
 "cells": [
  {
   "cell_type": "code",
   "execution_count": 1,
   "id": "3d12c9d8",
   "metadata": {},
   "outputs": [],
   "source": [
    "from src.config import API_KEY, SECRET_KEY\n",
    "paper = True"
   ]
  },
  {
   "cell_type": "code",
   "execution_count": 1,
   "id": "1e935ddd",
   "metadata": {},
   "outputs": [
    {
     "name": "stdout",
     "output_type": "stream",
     "text": [
      "before\n",
      "after\n"
     ]
    }
   ],
   "source": [
    "import time\n",
    "print('before')\n",
    "time.sleep(2)\n",
    "print('after')"
   ]
  },
  {
   "cell_type": "code",
   "execution_count": 2,
   "id": "914265db",
   "metadata": {},
   "outputs": [],
   "source": [
    "from datetime import datetime, timedelta\n",
    " \n",
    "import alpaca\n",
    "from alpaca.data.historical.option import OptionHistoricalDataClient, OptionLatestQuoteRequest\n",
    "from alpaca.data.historical.stock import StockHistoricalDataClient, StockLatestQuoteRequest\n",
    "from alpaca.data.requests import StockLatestQuoteRequest\n",
    "\n",
    "from alpaca.trading.client import TradingClient, GetAssetsRequest\n",
    "from alpaca.trading.requests import GetOptionContractsRequest, LimitOrderRequest, MarketOrderRequest, GetOrdersRequest\n",
    "from alpaca.trading.enums import AssetStatus, ContractType, OrderSide, OrderType, TimeInForce, QueryOrderStatus"
   ]
  },
  {
   "cell_type": "code",
   "execution_count": 3,
   "id": "16a45e7a",
   "metadata": {},
   "outputs": [],
   "source": [
    "trade_client = TradingClient(api_key=API_KEY, secret_key=SECRET_KEY, paper=paper)\n",
    "stock_data_client = StockHistoricalDataClient(api_key=API_KEY, secret_key=SECRET_KEY)\n",
    "option_data_client = OptionHistoricalDataClient(api_key=API_KEY, secret_key=SECRET_KEY)"
   ]
  },
  {
   "cell_type": "code",
   "execution_count": 4,
   "id": "5cd6503a",
   "metadata": {},
   "outputs": [
    {
     "data": {
      "text/plain": [
       "{'TSLA': {   'ask_exchange': 'V',\n",
       "     'ask_price': 319.54,\n",
       "     'ask_size': 1.0,\n",
       "     'bid_exchange': 'V',\n",
       "     'bid_price': 319.07,\n",
       "     'bid_size': 1.0,\n",
       "     'conditions': ['R'],\n",
       "     'symbol': 'TSLA',\n",
       "     'tape': 'C',\n",
       "     'timestamp': datetime.datetime(2025, 5, 12, 15, 35, 36, 879858, tzinfo=TzInfo(UTC))}}"
      ]
     },
     "execution_count": 4,
     "metadata": {},
     "output_type": "execute_result"
    }
   ],
   "source": [
    "req = StockLatestQuoteRequest(\n",
    "    symbol_or_symbols='TSLA'\n",
    ")\n",
    "stock_data_client.get_stock_latest_quote(req)"
   ]
  },
  {
   "cell_type": "code",
   "execution_count": 11,
   "id": "6ea497a6",
   "metadata": {},
   "outputs": [
    {
     "ename": "AttributeError",
     "evalue": "'NoneType' object has no attribute 'is_running'",
     "output_type": "error",
     "traceback": [
      "\u001b[31m---------------------------------------------------------------------------\u001b[39m",
      "\u001b[31mRuntimeError\u001b[39m                              Traceback (most recent call last)",
      "\u001b[36mFile \u001b[39m\u001b[32mc:\\Users\\cgarv\\automatic-fishstick\\venv\\Lib\\site-packages\\alpaca\\data\\live\\websocket.py:366\u001b[39m, in \u001b[36mDataStream.run\u001b[39m\u001b[34m(self)\u001b[39m\n\u001b[32m    365\u001b[39m \u001b[38;5;28;01mtry\u001b[39;00m:\n\u001b[32m--> \u001b[39m\u001b[32m366\u001b[39m     \u001b[43masyncio\u001b[49m\u001b[43m.\u001b[49m\u001b[43mrun\u001b[49m\u001b[43m(\u001b[49m\u001b[38;5;28;43mself\u001b[39;49m\u001b[43m.\u001b[49m\u001b[43m_run_forever\u001b[49m\u001b[43m(\u001b[49m\u001b[43m)\u001b[49m\u001b[43m)\u001b[49m\n\u001b[32m    367\u001b[39m \u001b[38;5;28;01mexcept\u001b[39;00m \u001b[38;5;167;01mKeyboardInterrupt\u001b[39;00m:\n",
      "\u001b[36mFile \u001b[39m\u001b[32mC:\\Program Files\\WindowsApps\\PythonSoftwareFoundation.Python.3.13_3.13.1008.0_x64__qbz5n2kfra8p0\\Lib\\asyncio\\runners.py:191\u001b[39m, in \u001b[36mrun\u001b[39m\u001b[34m(main, debug, loop_factory)\u001b[39m\n\u001b[32m    189\u001b[39m \u001b[38;5;28;01mif\u001b[39;00m events._get_running_loop() \u001b[38;5;129;01mis\u001b[39;00m \u001b[38;5;129;01mnot\u001b[39;00m \u001b[38;5;28;01mNone\u001b[39;00m:\n\u001b[32m    190\u001b[39m     \u001b[38;5;66;03m# fail fast with short traceback\u001b[39;00m\n\u001b[32m--> \u001b[39m\u001b[32m191\u001b[39m     \u001b[38;5;28;01mraise\u001b[39;00m \u001b[38;5;167;01mRuntimeError\u001b[39;00m(\n\u001b[32m    192\u001b[39m         \u001b[33m\"\u001b[39m\u001b[33masyncio.run() cannot be called from a running event loop\u001b[39m\u001b[33m\"\u001b[39m)\n\u001b[32m    194\u001b[39m \u001b[38;5;28;01mwith\u001b[39;00m Runner(debug=debug, loop_factory=loop_factory) \u001b[38;5;28;01mas\u001b[39;00m runner:\n",
      "\u001b[31mRuntimeError\u001b[39m: asyncio.run() cannot be called from a running event loop",
      "\nDuring handling of the above exception, another exception occurred:\n",
      "\u001b[31mAttributeError\u001b[39m                            Traceback (most recent call last)",
      "\u001b[36mCell\u001b[39m\u001b[36m \u001b[39m\u001b[32mIn[11]\u001b[39m\u001b[32m, line 16\u001b[39m\n\u001b[32m     13\u001b[39m \u001b[38;5;66;03m# live_quote_client.subscribe_trades(/)\u001b[39;00m\n\u001b[32m     14\u001b[39m \u001b[38;5;66;03m# Output trades to the terminal window\u001b[39;00m\n\u001b[32m     15\u001b[39m live_quote_client.subscribe_trades(quote_data_handler, \u001b[33m'\u001b[39m\u001b[33mAAPL\u001b[39m\u001b[33m'\u001b[39m) \u001b[38;5;66;03m# symbol\u001b[39;00m\n\u001b[32m---> \u001b[39m\u001b[32m16\u001b[39m \u001b[43mlive_quote_client\u001b[49m\u001b[43m.\u001b[49m\u001b[43mrun\u001b[49m\u001b[43m(\u001b[49m\u001b[43m)\u001b[49m\n",
      "\u001b[36mFile \u001b[39m\u001b[32mc:\\Users\\cgarv\\automatic-fishstick\\venv\\Lib\\site-packages\\alpaca\\data\\live\\websocket.py:371\u001b[39m, in \u001b[36mDataStream.run\u001b[39m\u001b[34m(self)\u001b[39m\n\u001b[32m    369\u001b[39m     \u001b[38;5;28;01mpass\u001b[39;00m\n\u001b[32m    370\u001b[39m \u001b[38;5;28;01mfinally\u001b[39;00m:\n\u001b[32m--> \u001b[39m\u001b[32m371\u001b[39m     \u001b[38;5;28;43mself\u001b[39;49m\u001b[43m.\u001b[49m\u001b[43mstop\u001b[49m\u001b[43m(\u001b[49m\u001b[43m)\u001b[49m\n",
      "\u001b[36mFile \u001b[39m\u001b[32mc:\\Users\\cgarv\\automatic-fishstick\\venv\\Lib\\site-packages\\alpaca\\data\\live\\websocket.py:375\u001b[39m, in \u001b[36mDataStream.stop\u001b[39m\u001b[34m(self)\u001b[39m\n\u001b[32m    373\u001b[39m \u001b[38;5;28;01mdef\u001b[39;00m\u001b[38;5;250m \u001b[39m\u001b[34mstop\u001b[39m(\u001b[38;5;28mself\u001b[39m) -> \u001b[38;5;28;01mNone\u001b[39;00m:\n\u001b[32m    374\u001b[39m \u001b[38;5;250m    \u001b[39m\u001b[33;03m\"\"\"Stops the websocket connection.\"\"\"\u001b[39;00m\n\u001b[32m--> \u001b[39m\u001b[32m375\u001b[39m     \u001b[38;5;28;01mif\u001b[39;00m \u001b[38;5;28;43mself\u001b[39;49m\u001b[43m.\u001b[49m\u001b[43m_loop\u001b[49m\u001b[43m.\u001b[49m\u001b[43mis_running\u001b[49m():\n\u001b[32m    376\u001b[39m         asyncio.run_coroutine_threadsafe(\u001b[38;5;28mself\u001b[39m.stop_ws(), \u001b[38;5;28mself\u001b[39m._loop).result(\n\u001b[32m    377\u001b[39m             timeout=\u001b[32m5\u001b[39m\n\u001b[32m    378\u001b[39m         )\n",
      "\u001b[31mAttributeError\u001b[39m: 'NoneType' object has no attribute 'is_running'"
     ]
    }
   ],
   "source": [
    "from alpaca.data.live import StockDataStream\n",
    "\n",
    "try:\n",
    "    live_quote_client = StockDataStream(api_key=API_KEY, secret_key=SECRET_KEY)\n",
    "except Exception as e:\n",
    "    print(f\"Error initializing LiveDataClient: {e}\")\n",
    "    live_quote_client = None\n",
    "\n",
    "\n",
    "async def quote_data_handler(data):\n",
    "    print(data)\n",
    "\n",
    "# live_quote_client.subscribe_trades(/)\n",
    "# Output trades to the terminal window\n",
    "live_quote_client.subscribe_trades(quote_data_handler, 'AAPL') # symbol\n",
    "live_quote_client.run()\n"
   ]
  },
  {
   "cell_type": "code",
   "execution_count": null,
   "id": "f7228715",
   "metadata": {},
   "outputs": [],
   "source": [
    "# Create request parameters for the latest option trade\n",
    "request_params = OptionLatestQuoteRequest(\n",
    "\tsymbol=\"TSLA\",  # Replace with the desired symbol\n",
    "\texpiration_date=\"2023-12-15\",  # Replace with the desired expiration date\n",
    "\tstrike_price=200.0,  # Replace with the desired strike price\n",
    "\toption_type=\"call\"  # Replace with \"call\" or \"put\"\n",
    ")\n",
    "\n",
    "# Fetch the latest option trade\n",
    "latest_trade = option_data_client.get_option_latest_trade(request_params)\n",
    "latest_trade"
   ]
  },
  {
   "cell_type": "code",
   "execution_count": null,
   "id": "39ca4bbe",
   "metadata": {},
   "outputs": [],
   "source": [
    "acct = trade_client.get_account()\n",
    "# print(f\"Options approved level: {acct.options_approved_level}\")\n",
    "# print(f\"Options trading level: {acct.options_trading_level}\")\n",
    "# print(f\"Options Buying power: {acct.options_buying_power}\")\n",
    "acct"
   ]
  },
  {
   "cell_type": "code",
   "execution_count": null,
   "id": "9038d5c4",
   "metadata": {},
   "outputs": [],
   "source": [
    "# set max options trading level, risk management\n",
    "acct_config = trade_client.get_account_configurations()\n",
    "print(f\"max options trading level: {acct_config.max_options_trading_level}\")\n",
    "\n",
    "acct_config.max_options_trading_level = None\n",
    "trade_client.set_account_configurations(acct_config)\n",
    "\n",
    "acct_config = trade_client.get_account_configurations()\n",
    "print(f\"max options trading level: {acct_config.max_options_trading_level}\")"
   ]
  },
  {
   "cell_type": "code",
   "execution_count": 5,
   "id": "c0c34423",
   "metadata": {},
   "outputs": [
    {
     "name": "stdout",
     "output_type": "stream",
     "text": [
      "Number of Underlyings with options: 5831\n"
     ]
    },
    {
     "data": {
      "text/plain": [
       "{   'asset_class': <AssetClass.US_EQUITY: 'us_equity'>,\n",
       "    'attributes': ['fractional_eh_enabled', 'has_options'],\n",
       "    'easy_to_borrow': True,\n",
       "    'exchange': <AssetExchange.NASDAQ: 'NASDAQ'>,\n",
       "    'fractionable': True,\n",
       "    'id': UUID('8ccae427-5dd0-45b3-b5fe-7ba5e422c766'),\n",
       "    'maintenance_margin_requirement': 40.0,\n",
       "    'marginable': True,\n",
       "    'min_order_size': None,\n",
       "    'min_trade_increment': None,\n",
       "    'name': 'Tesla, Inc. Common Stock',\n",
       "    'price_increment': None,\n",
       "    'shortable': True,\n",
       "    'status': <AssetStatus.ACTIVE: 'active'>,\n",
       "    'symbol': 'TSLA',\n",
       "    'tradable': True}"
      ]
     },
     "execution_count": 5,
     "metadata": {},
     "output_type": "execute_result"
    }
   ],
   "source": [
    "# active options to buy\n",
    "req = GetAssetsRequest(\n",
    "    status = AssetStatus.ACTIVE,\n",
    "    attributes = \"options_enabled\"\n",
    ")\n",
    "\n",
    "options_enabled_underlyings = trade_client.get_all_assets(req)\n",
    "print(f\"Number of Underlyings with options: {len(options_enabled_underlyings)}\")\n",
    "\n",
    "symbol = 'TSLA'\n",
    "test = trade_client.get_asset(symbol_or_asset_id=symbol)\n",
    "test\n",
    "# print(f\"{symbol} has options? {'options_enabled' in test.attributes}\")"
   ]
  },
  {
   "cell_type": "code",
   "execution_count": null,
   "id": "b93edfb8",
   "metadata": {},
   "outputs": [],
   "source": []
  },
  {
   "cell_type": "code",
   "execution_count": null,
   "id": "bfe3fbf0",
   "metadata": {},
   "outputs": [
    {
     "name": "stdout",
     "output_type": "stream",
     "text": [
      "asset_id=UUID('b0b6dd9d-8b9b-48a9-ba46-b9d54906e415') symbol='AAPL' exchange=<AssetExchange.NASDAQ: 'NASDAQ'> asset_class=<AssetClass.US_EQUITY: 'us_equity'> asset_marginable=True avg_entry_price='208.9' qty='1' side=<PositionSide.LONG: 'long'> market_value='208.9156' cost_basis='208.9' unrealized_pl='0.0156' unrealized_plpc='0.0000746768788894' unrealized_intraday_pl='0.0156' unrealized_intraday_plpc='0.0000746768788894' current_price='208.9156' lastday_price='198.53' change_today='0.0523124968518612' swap_rate=None avg_entry_swap_rate=None usd=None qty_available='1'\n",
      "asset_id=UUID('8ccae427-5dd0-45b3-b5fe-7ba5e422c766') symbol='TSLA' exchange=<AssetExchange.NASDAQ: 'NASDAQ'> asset_class=<AssetClass.US_EQUITY: 'us_equity'> asset_marginable=True avg_entry_price='320.5' qty='1' side=<PositionSide.LONG: 'long'> market_value='320.57' cost_basis='320.5' unrealized_pl='0.07' unrealized_plpc='0.0002184087363495' unrealized_intraday_pl='0.07' unrealized_intraday_plpc='0.0002184087363495' current_price='320.57' lastday_price='298.26' change_today='0.074800509622477' swap_rate=None avg_entry_swap_rate=None usd=None qty_available='1'\n"
     ]
    }
   ],
   "source": [
    "# account positions\n",
    "positions = trade_client.get_all_positions()\n",
    "# for p in positions:\n",
    "#     print(p)\n",
    "positions"
   ]
  },
  {
   "cell_type": "code",
   "execution_count": null,
   "id": "11c5af4e",
   "metadata": {},
   "outputs": [],
   "source": [
    "today = datetime.now().date()\n",
    "min_expiration = today + timedelta(days=14)\n",
    "max_expiration = today + timedelta(days=90)\n",
    "\n",
    "trade_req = StockLatestTradeRequest(symbol_or_symbols=symbol)\n",
    "latest_trade = stock_data_client.get_stock_latest_trade(trade_req)\n",
    "last_price = latest_trade[symbol].price\n",
    "\n",
    "min_strike = str(round(last_price*1.02,2))\n",
    "\n",
    "print(f\"{symbol} last trade price: {last_price}\")\n",
    "print(f\"Min exp: {min_expiration}\")\n",
    "print(f\"Max exp: {max_expiration}\")\n",
    "print(f\"Min strike: {min_strike}\")"
   ]
  },
  {
   "cell_type": "code",
   "execution_count": 13,
   "id": "1f9433ce",
   "metadata": {},
   "outputs": [
    {
     "data": {
      "text/plain": [
       "{   'asset_class': <AssetClass.US_EQUITY: 'us_equity'>,\n",
       "    'asset_id': UUID('b0b6dd9d-8b9b-48a9-ba46-b9d54906e415'),\n",
       "    'canceled_at': None,\n",
       "    'client_order_id': '7150887f-0b8d-4e6d-b8da-460311525977',\n",
       "    'created_at': datetime.datetime(2025, 5, 12, 15, 44, 12, 896312, tzinfo=TzInfo(UTC)),\n",
       "    'expired_at': None,\n",
       "    'expires_at': datetime.datetime(2025, 5, 12, 20, 0, tzinfo=TzInfo(UTC)),\n",
       "    'extended_hours': False,\n",
       "    'failed_at': None,\n",
       "    'filled_at': None,\n",
       "    'filled_avg_price': None,\n",
       "    'filled_qty': '0',\n",
       "    'hwm': None,\n",
       "    'id': UUID('dbafab75-dfcb-491d-b0c2-2589151bacf9'),\n",
       "    'legs': None,\n",
       "    'limit_price': None,\n",
       "    'notional': None,\n",
       "    'order_class': <OrderClass.SIMPLE: 'simple'>,\n",
       "    'order_type': <OrderType.MARKET: 'market'>,\n",
       "    'position_intent': <PositionIntent.SELL_TO_CLOSE: 'sell_to_close'>,\n",
       "    'qty': '1',\n",
       "    'ratio_qty': None,\n",
       "    'replaced_at': None,\n",
       "    'replaced_by': None,\n",
       "    'replaces': None,\n",
       "    'side': <OrderSide.SELL: 'sell'>,\n",
       "    'status': <OrderStatus.PENDING_NEW: 'pending_new'>,\n",
       "    'stop_price': None,\n",
       "    'submitted_at': datetime.datetime(2025, 5, 12, 15, 44, 12, 896312, tzinfo=TzInfo(UTC)),\n",
       "    'symbol': 'AAPL',\n",
       "    'time_in_force': <TimeInForce.DAY: 'day'>,\n",
       "    'trail_percent': None,\n",
       "    'trail_price': None,\n",
       "    'type': <OrderType.MARKET: 'market'>,\n",
       "    'updated_at': datetime.datetime(2025, 5, 12, 15, 44, 12, 896734, tzinfo=TzInfo(UTC))}"
      ]
     },
     "execution_count": 13,
     "metadata": {},
     "output_type": "execute_result"
    }
   ],
   "source": [
    "# create market order\n",
    "req = MarketOrderRequest(\n",
    "    symbol='AAPL',\n",
    "    qty=1,\n",
    "    side=OrderSide.SELL,\n",
    "    type=OrderType.MARKET,\n",
    "    time_in_force=TimeInForce.DAY,\n",
    ")\n",
    "res = trade_client.submit_order(req)\n",
    "res\n",
    "\n",
    "# limit price request, buy when option reaches the limit price\n",
    "# limit_order = LimitOrderRequest(\n",
    "#     symbol='SPY',\n",
    "#     qty=1,\n",
    "#     side=OrderSide.BUY,\n",
    "#     time_in_force=TimeInForce.DAY, # will sit until timeInForce determines when to be filled\n",
    "#     limit_price=486.00\n",
    "# )\n",
    "# order = trade_client.submit_order(limit_order)"
   ]
  },
  {
   "cell_type": "code",
   "execution_count": null,
   "id": "a2371d37",
   "metadata": {},
   "outputs": [],
   "source": [
    "# get unfilled orders to manage based off trading algorithm\n",
    "req = GetOrdersRequest(\n",
    "    status=QueryOrderStatus.OPEN\n",
    ")\n",
    "order = trade_client.get_orders(req)\n",
    "# print(order)\n",
    "\n",
    "for elem in order:\n",
    "    trade_client.cancel_order_by_id(elem.id)"
   ]
  },
  {
   "cell_type": "code",
   "execution_count": null,
   "id": "0bf02ed5",
   "metadata": {},
   "outputs": [],
   "source": [
    "# close position\n",
    "symbol = positions[0].symbol\n",
    "trade_client.close_position(\n",
    "    symbol_or_asset_id=symbol\n",
    ")"
   ]
  }
 ],
 "metadata": {
  "kernelspec": {
   "display_name": "venv",
   "language": "python",
   "name": "python3"
  },
  "language_info": {
   "codemirror_mode": {
    "name": "ipython",
    "version": 3
   },
   "file_extension": ".py",
   "mimetype": "text/x-python",
   "name": "python",
   "nbconvert_exporter": "python",
   "pygments_lexer": "ipython3",
   "version": "3.13.3"
  }
 },
 "nbformat": 4,
 "nbformat_minor": 5
}
